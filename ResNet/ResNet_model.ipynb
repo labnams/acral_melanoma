{
 "cells": [
  {
   "cell_type": "code",
   "execution_count": 1,
   "metadata": {},
   "outputs": [
    {
     "name": "stderr",
     "output_type": "stream",
     "text": [
      "C:\\Users\\a\\AppData\\Roaming\\Python\\Python37\\site-packages\\tensorflow\\python\\framework\\dtypes.py:526: FutureWarning: Passing (type, 1) or '1type' as a synonym of type is deprecated; in a future version of numpy, it will be understood as (type, (1,)) / '(1,)type'.\n",
      "  _np_qint8 = np.dtype([(\"qint8\", np.int8, 1)])\n",
      "C:\\Users\\a\\AppData\\Roaming\\Python\\Python37\\site-packages\\tensorflow\\python\\framework\\dtypes.py:527: FutureWarning: Passing (type, 1) or '1type' as a synonym of type is deprecated; in a future version of numpy, it will be understood as (type, (1,)) / '(1,)type'.\n",
      "  _np_quint8 = np.dtype([(\"quint8\", np.uint8, 1)])\n",
      "C:\\Users\\a\\AppData\\Roaming\\Python\\Python37\\site-packages\\tensorflow\\python\\framework\\dtypes.py:528: FutureWarning: Passing (type, 1) or '1type' as a synonym of type is deprecated; in a future version of numpy, it will be understood as (type, (1,)) / '(1,)type'.\n",
      "  _np_qint16 = np.dtype([(\"qint16\", np.int16, 1)])\n",
      "C:\\Users\\a\\AppData\\Roaming\\Python\\Python37\\site-packages\\tensorflow\\python\\framework\\dtypes.py:529: FutureWarning: Passing (type, 1) or '1type' as a synonym of type is deprecated; in a future version of numpy, it will be understood as (type, (1,)) / '(1,)type'.\n",
      "  _np_quint16 = np.dtype([(\"quint16\", np.uint16, 1)])\n",
      "C:\\Users\\a\\AppData\\Roaming\\Python\\Python37\\site-packages\\tensorflow\\python\\framework\\dtypes.py:530: FutureWarning: Passing (type, 1) or '1type' as a synonym of type is deprecated; in a future version of numpy, it will be understood as (type, (1,)) / '(1,)type'.\n",
      "  _np_qint32 = np.dtype([(\"qint32\", np.int32, 1)])\n",
      "C:\\Users\\a\\AppData\\Roaming\\Python\\Python37\\site-packages\\tensorflow\\python\\framework\\dtypes.py:535: FutureWarning: Passing (type, 1) or '1type' as a synonym of type is deprecated; in a future version of numpy, it will be understood as (type, (1,)) / '(1,)type'.\n",
      "  np_resource = np.dtype([(\"resource\", np.ubyte, 1)])\n",
      "Using TensorFlow backend.\n"
     ]
    }
   ],
   "source": [
    "import os\n",
    "import pandas as pd\n",
    "import numpy as np\n",
    "import tensorflow as tf\n",
    "import random\n",
    "from pandas import DataFrame\n",
    "from datetime import datetime\n",
    "import keras\n",
    "from keras.models import Sequential,Input,Model\n",
    "from keras.layers import Dense, Dropout, Flatten, Reshape, Activation\n",
    "from keras.layers import Conv1D, MaxPooling1D ,AveragePooling1D\n",
    "from keras.layers import Conv2D, MaxPooling2D, AveragePooling2D\n",
    "from keras.layers.normalization import BatchNormalization\n",
    "from keras.layers.advanced_activations import LeakyReLU\n",
    "from keras import backend as K\n",
    "# from tensorflow.keras.callbacks import ModelCheckpoint, CSVLogger\n",
    "#from tensorflow.keras.optimizers import Adam\n",
    "\n",
    "\n",
    "\n",
    "\n",
    "config = tf.ConfigProto()\n",
    "config.gpu_options.per_process_gpu_memory_fraction = 0.7\n",
    "config.gpu_options.allow_growth = True\n",
    "sess = tf.Session(config=config)"
   ]
  },
  {
   "cell_type": "code",
   "execution_count": 2,
   "metadata": {},
   "outputs": [
    {
     "name": "stdout",
     "output_type": "stream",
     "text": [
      "[name: \"/device:CPU:0\"\n",
      "device_type: \"CPU\"\n",
      "memory_limit: 268435456\n",
      "locality {\n",
      "}\n",
      "incarnation: 6377373837733936642\n",
      ", name: \"/device:GPU:0\"\n",
      "device_type: \"GPU\"\n",
      "memory_limit: 8267812044\n",
      "locality {\n",
      "  bus_id: 1\n",
      "  links {\n",
      "  }\n",
      "}\n",
      "incarnation: 15650974068088029753\n",
      "physical_device_desc: \"device: 0, name: GeForce GTX 1080 Ti, pci bus id: 0000:01:00.0, compute capability: 6.1\"\n",
      "]\n"
     ]
    }
   ],
   "source": [
    "from tensorflow.python.client import device_lib\n",
    "print(device_lib.list_local_devices())\n",
    "\n",
    "\n",
    "# 출처: https://3months.tistory.com/206 [Deep Play]"
   ]
  },
  {
   "cell_type": "code",
   "execution_count": 3,
   "metadata": {},
   "outputs": [],
   "source": [
    "workdir = \"E://Ronny_TF//201120_EDC_EYDC_MDC_other_PC//Dataset_EDC_EYDC_MDC_regen\""
   ]
  },
  {
   "cell_type": "code",
   "execution_count": 4,
   "metadata": {},
   "outputs": [],
   "source": [
    "# < Important note > [ Please download input data from https://mega.nz/#F!CeYGDKyS!uqkmWJ4E2XSGJp_C2VO2gg]\n",
    "# IC50evaluation//Dataset//Scenario2_EDC-11K_minmax\n",
    "\n",
    "dataset = np.load(workdir + \"//EDC11K_dataset.npz\") # input file\n",
    "ss0 = np.load(workdir + '//EDC11K_datase_r0_9_1.npz') # split for training and test"
   ]
  },
  {
   "cell_type": "code",
   "execution_count": 5,
   "metadata": {},
   "outputs": [],
   "source": [
    "x = dataset['x']\n",
    "y = dataset['y']\n",
    "# y_linear = dataset['y_lnIC50']\n",
    "ss0_train = ss0['train']\n",
    "ss0_test = ss0['test']"
   ]
  },
  {
   "cell_type": "code",
   "execution_count": 6,
   "metadata": {},
   "outputs": [],
   "source": [
    "training_image_array, training_label_array = x[ss0_train], y[ss0_train]\n",
    "test_image_array, test_label_array = x[ss0_test], y[ss0_test]\n",
    "\n",
    "# # In[9]:\n",
    "# ori = training_image_array\n",
    "# bat = np.zeros((ori.shape[0],178))\n",
    "# cat = np.hstack([ori,bat])\n",
    "# training_image_array = cat\n",
    "\n",
    "# # In[8]:\n",
    "# training_image_array.shape\n",
    "\n",
    "# # In[10]:\n",
    "# ori2 = test_image_array\n",
    "# bat2 = np.zeros((ori2.shape[0],178))\n",
    "# cat2 = np.hstack([ori2,bat2])\n",
    "# test_image_array = cat2\n"
   ]
  },
  {
   "cell_type": "code",
   "execution_count": 7,
   "metadata": {},
   "outputs": [
    {
     "name": "stdout",
     "output_type": "stream",
     "text": [
      "0 42\n"
     ]
    }
   ],
   "source": [
    "# In[15]:\n",
    "ab =[]\n",
    "for i in range(100,300):\n",
    "    ab.append(len(training_image_array) % i)\n",
    "    \n",
    "print(min(ab), ab.index(min(ab)))"
   ]
  },
  {
   "cell_type": "code",
   "execution_count": 8,
   "metadata": {},
   "outputs": [
    {
     "data": {
      "text/plain": [
       "(11360, 21313)"
      ]
     },
     "execution_count": 8,
     "metadata": {},
     "output_type": "execute_result"
    }
   ],
   "source": [
    "x.shape"
   ]
  },
  {
   "cell_type": "code",
   "execution_count": 9,
   "metadata": {},
   "outputs": [
    {
     "data": {
      "text/plain": [
       "(10224, 21313)"
      ]
     },
     "execution_count": 9,
     "metadata": {},
     "output_type": "execute_result"
    }
   ],
   "source": [
    "training_image_array.shape"
   ]
  },
  {
   "cell_type": "code",
   "execution_count": 10,
   "metadata": {},
   "outputs": [],
   "source": [
    "# In[21]:\n",
    "\n",
    "num_classes = 1\n",
    "learning_rate = 0.0002\n",
    "training_epochs = 150\n",
    "batch_size = 100\n",
    "# img_rows, img_cols = 154, 154\n"
   ]
  },
  {
   "cell_type": "code",
   "execution_count": 11,
   "metadata": {},
   "outputs": [],
   "source": [
    "train_X, train_y, test_X, test_y = training_image_array, training_label_array, test_image_array, test_label_array\n",
    "\n",
    "# if K.image_data_format() == 'channels_first':\n",
    "#     train_X = train_X.reshape(train_X.shape[0], 1, img_rows, img_cols)\n",
    "#     test_X = test_X.reshape(x_test.shape[0], 1, img_rows, img_cols)\n",
    "#     input_shape = (1, img_rows, img_cols)\n",
    "# else:\n",
    "#     train_X = train_X.reshape(train_X.shape[0], img_rows, img_cols, 1)\n",
    "#     test_X = test_X.reshape(test_X.shape[0], img_rows, img_cols, 1)\n",
    "#     input_shape = (img_rows, img_cols, 1)\n"
   ]
  },
  {
   "cell_type": "code",
   "execution_count": 12,
   "metadata": {},
   "outputs": [],
   "source": [
    "train_X = train_X.reshape(train_X.shape[0], train_X.shape[1],1)\n",
    "test_X = test_X.reshape(test_X.shape[0], test_X.shape[1],1)\n",
    "#input_shape = (img_rows, img_cols, 1)"
   ]
  },
  {
   "cell_type": "code",
   "execution_count": 13,
   "metadata": {},
   "outputs": [
    {
     "name": "stdout",
     "output_type": "stream",
     "text": [
      "(10224, 21313, 1) (10224,) (1136, 21313, 1) (1136,)\n"
     ]
    }
   ],
   "source": [
    "print(train_X.shape, train_y.shape, test_X.shape, test_y.shape)"
   ]
  },
  {
   "cell_type": "code",
   "execution_count": 14,
   "metadata": {},
   "outputs": [
    {
     "name": "stdout",
     "output_type": "stream",
     "text": [
      "train_X shape: (10224, 21313, 1)\n",
      "10224 train samples\n",
      "1136 test samples\n"
     ]
    }
   ],
   "source": [
    "train_X = train_X.astype('float32')\n",
    "test_X = test_X.astype('float32')\n",
    "# train_X /= 255\n",
    "# test_X /= 255\n",
    "print('train_X shape:', train_X.shape)\n",
    "print(train_X.shape[0], 'train samples')\n",
    "print(test_X.shape[0], 'test samples')"
   ]
  },
  {
   "cell_type": "code",
   "execution_count": 15,
   "metadata": {},
   "outputs": [
    {
     "data": {
      "text/plain": [
       "(10224, 21313)"
      ]
     },
     "execution_count": 15,
     "metadata": {},
     "output_type": "execute_result"
    }
   ],
   "source": [
    "training_image_array.shape"
   ]
  },
  {
   "cell_type": "code",
   "execution_count": 16,
   "metadata": {
    "scrolled": true
   },
   "outputs": [
    {
     "name": "stdout",
     "output_type": "stream",
     "text": [
      "WARNING:tensorflow:From C:\\Users\\a\\AppData\\Roaming\\Python\\Python37\\site-packages\\tensorflow\\python\\framework\\op_def_library.py:263: colocate_with (from tensorflow.python.framework.ops) is deprecated and will be removed in a future version.\n",
      "Instructions for updating:\n",
      "Colocations handled automatically by placer.\n",
      "WARNING:tensorflow:From C:\\Users\\a\\AppData\\Roaming\\Python\\Python37\\site-packages\\keras\\backend\\tensorflow_backend.py:3445: calling dropout (from tensorflow.python.ops.nn_ops) with keep_prob is deprecated and will be removed in a future version.\n",
      "Instructions for updating:\n",
      "Please use `rate` instead of `keep_prob`. Rate should be set to `rate = 1 - keep_prob`.\n",
      "__________________________________________________________________________________________________\n",
      "Layer (type)                    Output Shape         Param #     Connected to                     \n",
      "==================================================================================================\n",
      "inputs (InputLayer)             (None, 21313, 1)     0                                            \n",
      "__________________________________________________________________________________________________\n",
      "conv1d_1 (Conv1D)               (None, 10657, 16)    64          inputs[0][0]                     \n",
      "__________________________________________________________________________________________________\n",
      "max_pooling1d_1 (MaxPooling1D)  (None, 2131, 16)     0           conv1d_1[0][0]                   \n",
      "__________________________________________________________________________________________________\n",
      "batch_normalization_1 (BatchNor (None, 2131, 16)     64          max_pooling1d_1[0][0]            \n",
      "__________________________________________________________________________________________________\n",
      "activation_1 (Activation)       (None, 2131, 16)     0           batch_normalization_1[0][0]      \n",
      "__________________________________________________________________________________________________\n",
      "conv1d_2 (Conv1D)               (None, 2131, 16)     784         activation_1[0][0]               \n",
      "__________________________________________________________________________________________________\n",
      "batch_normalization_2 (BatchNor (None, 2131, 16)     64          conv1d_2[0][0]                   \n",
      "__________________________________________________________________________________________________\n",
      "activation_2 (Activation)       (None, 2131, 16)     0           batch_normalization_2[0][0]      \n",
      "__________________________________________________________________________________________________\n",
      "conv1d_3 (Conv1D)               (None, 2131, 16)     784         activation_2[0][0]               \n",
      "__________________________________________________________________________________________________\n",
      "batch_normalization_3 (BatchNor (None, 2131, 16)     64          conv1d_3[0][0]                   \n",
      "__________________________________________________________________________________________________\n",
      "activation_3 (Activation)       (None, 2131, 16)     0           batch_normalization_3[0][0]      \n",
      "__________________________________________________________________________________________________\n",
      "conv1d_4 (Conv1D)               (None, 2131, 16)     784         activation_3[0][0]               \n",
      "__________________________________________________________________________________________________\n",
      "batch_normalization_4 (BatchNor (None, 2131, 16)     64          conv1d_4[0][0]                   \n",
      "__________________________________________________________________________________________________\n",
      "add_1 (Add)                     (None, 2131, 16)     0           batch_normalization_4[0][0]      \n",
      "                                                                 batch_normalization_2[0][0]      \n",
      "__________________________________________________________________________________________________\n",
      "activation_4 (Activation)       (None, 2131, 16)     0           add_1[0][0]                      \n",
      "__________________________________________________________________________________________________\n",
      "conv1d_5 (Conv1D)               (None, 2131, 16)     784         activation_4[0][0]               \n",
      "__________________________________________________________________________________________________\n",
      "batch_normalization_5 (BatchNor (None, 2131, 16)     64          conv1d_5[0][0]                   \n",
      "__________________________________________________________________________________________________\n",
      "activation_5 (Activation)       (None, 2131, 16)     0           batch_normalization_5[0][0]      \n",
      "__________________________________________________________________________________________________\n",
      "conv1d_6 (Conv1D)               (None, 2131, 16)     784         activation_5[0][0]               \n",
      "__________________________________________________________________________________________________\n",
      "batch_normalization_6 (BatchNor (None, 2131, 16)     64          conv1d_6[0][0]                   \n",
      "__________________________________________________________________________________________________\n",
      "activation_6 (Activation)       (None, 2131, 16)     0           batch_normalization_6[0][0]      \n",
      "__________________________________________________________________________________________________\n",
      "conv1d_7 (Conv1D)               (None, 2131, 16)     784         activation_6[0][0]               \n",
      "__________________________________________________________________________________________________\n",
      "batch_normalization_7 (BatchNor (None, 2131, 16)     64          conv1d_7[0][0]                   \n",
      "__________________________________________________________________________________________________\n",
      "activation_7 (Activation)       (None, 2131, 16)     0           batch_normalization_7[0][0]      \n",
      "__________________________________________________________________________________________________\n",
      "conv1d_8 (Conv1D)               (None, 2131, 16)     784         activation_7[0][0]               \n",
      "__________________________________________________________________________________________________\n",
      "batch_normalization_8 (BatchNor (None, 2131, 16)     64          conv1d_8[0][0]                   \n",
      "__________________________________________________________________________________________________\n",
      "add_2 (Add)                     (None, 2131, 16)     0           batch_normalization_8[0][0]      \n",
      "                                                                 batch_normalization_5[0][0]      \n",
      "__________________________________________________________________________________________________\n",
      "activation_8 (Activation)       (None, 2131, 16)     0           add_2[0][0]                      \n",
      "__________________________________________________________________________________________________\n",
      "conv1d_9 (Conv1D)               (None, 1066, 32)     1568        activation_8[0][0]               \n",
      "__________________________________________________________________________________________________\n",
      "batch_normalization_9 (BatchNor (None, 1066, 32)     128         conv1d_9[0][0]                   \n",
      "__________________________________________________________________________________________________\n",
      "activation_9 (Activation)       (None, 1066, 32)     0           batch_normalization_9[0][0]      \n",
      "__________________________________________________________________________________________________\n",
      "conv1d_10 (Conv1D)              (None, 1066, 32)     3104        activation_9[0][0]               \n",
      "__________________________________________________________________________________________________\n",
      "conv1d_11 (Conv1D)              (None, 1066, 32)     3104        conv1d_10[0][0]                  \n",
      "__________________________________________________________________________________________________\n",
      "batch_normalization_10 (BatchNo (None, 1066, 32)     128         conv1d_11[0][0]                  \n",
      "__________________________________________________________________________________________________\n",
      "add_3 (Add)                     (None, 1066, 32)     0           batch_normalization_10[0][0]     \n",
      "                                                                 batch_normalization_9[0][0]      \n",
      "__________________________________________________________________________________________________\n",
      "activation_10 (Activation)      (None, 1066, 32)     0           add_3[0][0]                      \n",
      "__________________________________________________________________________________________________\n",
      "conv1d_12 (Conv1D)              (None, 1066, 32)     3104        activation_10[0][0]              \n",
      "__________________________________________________________________________________________________\n",
      "batch_normalization_11 (BatchNo (None, 1066, 32)     128         conv1d_12[0][0]                  \n",
      "__________________________________________________________________________________________________\n",
      "activation_11 (Activation)      (None, 1066, 32)     0           batch_normalization_11[0][0]     \n",
      "__________________________________________________________________________________________________\n",
      "conv1d_13 (Conv1D)              (None, 1066, 32)     3104        activation_11[0][0]              \n",
      "__________________________________________________________________________________________________\n",
      "batch_normalization_12 (BatchNo (None, 1066, 32)     128         conv1d_13[0][0]                  \n",
      "__________________________________________________________________________________________________\n",
      "add_4 (Add)                     (None, 1066, 32)     0           batch_normalization_12[0][0]     \n",
      "                                                                 batch_normalization_11[0][0]     \n",
      "__________________________________________________________________________________________________\n",
      "activation_12 (Activation)      (None, 1066, 32)     0           add_4[0][0]                      \n",
      "__________________________________________________________________________________________________\n",
      "conv1d_14 (Conv1D)              (None, 1066, 32)     3104        activation_12[0][0]              \n",
      "__________________________________________________________________________________________________\n",
      "batch_normalization_13 (BatchNo (None, 1066, 32)     128         conv1d_14[0][0]                  \n",
      "__________________________________________________________________________________________________\n",
      "activation_13 (Activation)      (None, 1066, 32)     0           batch_normalization_13[0][0]     \n",
      "__________________________________________________________________________________________________\n",
      "conv1d_15 (Conv1D)              (None, 1066, 32)     3104        activation_13[0][0]              \n",
      "__________________________________________________________________________________________________\n",
      "batch_normalization_14 (BatchNo (None, 1066, 32)     128         conv1d_15[0][0]                  \n",
      "__________________________________________________________________________________________________\n",
      "add_5 (Add)                     (None, 1066, 32)     0           batch_normalization_14[0][0]     \n",
      "                                                                 batch_normalization_13[0][0]     \n",
      "__________________________________________________________________________________________________\n",
      "activation_14 (Activation)      (None, 1066, 32)     0           add_5[0][0]                      \n",
      "__________________________________________________________________________________________________\n",
      "conv1d_16 (Conv1D)              (None, 533, 64)      6208        activation_14[0][0]              \n",
      "__________________________________________________________________________________________________\n",
      "batch_normalization_15 (BatchNo (None, 533, 64)      256         conv1d_16[0][0]                  \n",
      "__________________________________________________________________________________________________\n",
      "activation_15 (Activation)      (None, 533, 64)      0           batch_normalization_15[0][0]     \n",
      "__________________________________________________________________________________________________\n",
      "conv1d_17 (Conv1D)              (None, 533, 64)      12352       activation_15[0][0]              \n",
      "__________________________________________________________________________________________________\n",
      "conv1d_18 (Conv1D)              (None, 533, 64)      12352       conv1d_17[0][0]                  \n",
      "__________________________________________________________________________________________________\n",
      "batch_normalization_16 (BatchNo (None, 533, 64)      256         conv1d_18[0][0]                  \n",
      "__________________________________________________________________________________________________\n",
      "add_6 (Add)                     (None, 533, 64)      0           batch_normalization_16[0][0]     \n",
      "                                                                 batch_normalization_15[0][0]     \n",
      "__________________________________________________________________________________________________\n",
      "activation_16 (Activation)      (None, 533, 64)      0           add_6[0][0]                      \n",
      "__________________________________________________________________________________________________\n",
      "conv1d_19 (Conv1D)              (None, 533, 64)      12352       activation_16[0][0]              \n",
      "__________________________________________________________________________________________________\n",
      "batch_normalization_17 (BatchNo (None, 533, 64)      256         conv1d_19[0][0]                  \n",
      "__________________________________________________________________________________________________\n",
      "activation_17 (Activation)      (None, 533, 64)      0           batch_normalization_17[0][0]     \n",
      "__________________________________________________________________________________________________\n",
      "conv1d_20 (Conv1D)              (None, 533, 64)      12352       activation_17[0][0]              \n",
      "__________________________________________________________________________________________________\n",
      "batch_normalization_18 (BatchNo (None, 533, 64)      256         conv1d_20[0][0]                  \n",
      "__________________________________________________________________________________________________\n",
      "add_7 (Add)                     (None, 533, 64)      0           batch_normalization_18[0][0]     \n",
      "                                                                 batch_normalization_17[0][0]     \n",
      "__________________________________________________________________________________________________\n",
      "activation_18 (Activation)      (None, 533, 64)      0           add_7[0][0]                      \n",
      "__________________________________________________________________________________________________\n",
      "conv1d_21 (Conv1D)              (None, 533, 64)      12352       activation_18[0][0]              \n",
      "__________________________________________________________________________________________________\n",
      "batch_normalization_19 (BatchNo (None, 533, 64)      256         conv1d_21[0][0]                  \n",
      "__________________________________________________________________________________________________\n",
      "activation_19 (Activation)      (None, 533, 64)      0           batch_normalization_19[0][0]     \n",
      "__________________________________________________________________________________________________\n",
      "conv1d_22 (Conv1D)              (None, 533, 64)      12352       activation_19[0][0]              \n",
      "__________________________________________________________________________________________________\n",
      "batch_normalization_20 (BatchNo (None, 533, 64)      256         conv1d_22[0][0]                  \n",
      "__________________________________________________________________________________________________\n",
      "add_8 (Add)                     (None, 533, 64)      0           batch_normalization_20[0][0]     \n",
      "                                                                 batch_normalization_19[0][0]     \n",
      "__________________________________________________________________________________________________\n",
      "activation_20 (Activation)      (None, 533, 64)      0           add_8[0][0]                      \n",
      "__________________________________________________________________________________________________\n",
      "flatten_1 (Flatten)             (None, 34112)        0           activation_20[0][0]              \n",
      "__________________________________________________________________________________________________\n",
      "dense1 (Dense)                  (None, 2048)         69863424    flatten_1[0][0]                  \n",
      "__________________________________________________________________________________________________\n",
      "batch_normalization_21 (BatchNo (None, 2048)         8192        dense1[0][0]                     \n",
      "__________________________________________________________________________________________________\n",
      "dropout1 (Dropout)              (None, 2048)         0           batch_normalization_21[0][0]     \n",
      "__________________________________________________________________________________________________\n",
      "activation_21 (Activation)      (None, 2048)         0           dropout1[0][0]                   \n",
      "__________________________________________________________________________________________________\n",
      "dense5 (Dense)                  (None, 1024)         2098176     activation_21[0][0]              \n",
      "__________________________________________________________________________________________________\n",
      "batch_normalization_22 (BatchNo (None, 1024)         4096        dense5[0][0]                     \n",
      "__________________________________________________________________________________________________\n",
      "dropout5 (Dropout)              (None, 1024)         0           batch_normalization_22[0][0]     \n",
      "__________________________________________________________________________________________________\n",
      "activation_22 (Activation)      (None, 1024)         0           dropout5[0][0]                   \n",
      "__________________________________________________________________________________________________\n",
      "dense6 (Dense)                  (None, 512)          524800      activation_22[0][0]              \n",
      "__________________________________________________________________________________________________\n",
      "batch_normalization_23 (BatchNo (None, 512)          2048        dense6[0][0]                     \n",
      "__________________________________________________________________________________________________\n",
      "dropout6 (Dropout)              (None, 512)          0           batch_normalization_23[0][0]     \n",
      "__________________________________________________________________________________________________\n",
      "activation_23 (Activation)      (None, 512)          0           dropout6[0][0]                   \n",
      "__________________________________________________________________________________________________\n",
      "dense7 (Dense)                  (None, 1024)         525312      activation_23[0][0]              \n",
      "__________________________________________________________________________________________________\n",
      "batch_normalization_24 (BatchNo (None, 1024)         4096        dense7[0][0]                     \n",
      "__________________________________________________________________________________________________\n",
      "dropout7 (Dropout)              (None, 1024)         0           batch_normalization_24[0][0]     \n",
      "__________________________________________________________________________________________________\n",
      "add_9 (Add)                     (None, 1024)         0           dropout7[0][0]                   \n",
      "                                                                 batch_normalization_22[0][0]     \n",
      "__________________________________________________________________________________________________\n",
      "activation_24 (Activation)      (None, 1024)         0           add_9[0][0]                      \n",
      "__________________________________________________________________________________________________\n",
      "dense8 (Dense)                  (None, 512)          524800      activation_24[0][0]              \n",
      "__________________________________________________________________________________________________\n",
      "batch_normalization_25 (BatchNo (None, 512)          2048        dense8[0][0]                     \n",
      "__________________________________________________________________________________________________\n",
      "dropout8 (Dropout)              (None, 512)          0           batch_normalization_25[0][0]     \n",
      "__________________________________________________________________________________________________\n",
      "activation_25 (Activation)      (None, 512)          0           dropout8[0][0]                   \n",
      "__________________________________________________________________________________________________\n",
      "dense9 (Dense)                  (None, 256)          131328      activation_25[0][0]              \n",
      "__________________________________________________________________________________________________\n",
      "batch_normalization_26 (BatchNo (None, 256)          1024        dense9[0][0]                     \n",
      "__________________________________________________________________________________________________\n",
      "dropout9 (Dropout)              (None, 256)          0           batch_normalization_26[0][0]     \n",
      "__________________________________________________________________________________________________\n",
      "activation_26 (Activation)      (None, 256)          0           dropout9[0][0]                   \n",
      "__________________________________________________________________________________________________\n",
      "dense10 (Dense)                 (None, 128)          32896       activation_26[0][0]              \n",
      "__________________________________________________________________________________________________\n",
      "batch_normalization_27 (BatchNo (None, 128)          512         dense10[0][0]                    \n",
      "__________________________________________________________________________________________________\n",
      "dropout10 (Dropout)             (None, 128)          0           batch_normalization_27[0][0]     \n",
      "__________________________________________________________________________________________________\n",
      "activation_27 (Activation)      (None, 128)          0           dropout10[0][0]                  \n",
      "__________________________________________________________________________________________________\n",
      "predictions (Dense)             (None, 1)            129         activation_27[0][0]              \n",
      "==================================================================================================\n",
      "Total params: 73,831,761\n",
      "Trainable params: 73,819,345\n",
      "Non-trainable params: 12,416\n",
      "__________________________________________________________________________________________________\n"
     ]
    }
   ],
   "source": [
    "# In[10]:\n",
    "with K.tf.device('/GPU:0'):\n",
    "    inputs = Input(shape=(train_X.shape[1],1),name='inputs')\n",
    "\n",
    "    x = Conv1D(16, kernel_size=3, strides=2, padding=\"same\")(inputs)\n",
    "    x = MaxPooling1D(pool_size=5)(x)\n",
    "    x = BatchNormalization()(x)\n",
    "#     y = x\n",
    "    x = Activation('tanh')(x)\n",
    "\n",
    "    x = Conv1D(16, kernel_size=3, strides=1, padding=\"same\")(x)\n",
    "#     x = MaxPooling1D(pool_size=5)(x)\n",
    "    x = BatchNormalization()(x)\n",
    "    y = x\n",
    "    x = Activation('relu')(x)\n",
    "\n",
    "    x = Conv1D(16, kernel_size=3, strides=1, padding=\"same\")(x)\n",
    "#     x = MaxPooling1D(pool_size=5)(x)\n",
    "    x = BatchNormalization()(x)\n",
    "    x = Activation('relu')(x)\n",
    "\n",
    "    x = Conv1D(16, kernel_size=3, strides=1, padding=\"same\")(x)\n",
    "#     x = MaxPooling1D(pool_size=5)(x)\n",
    "    x = BatchNormalization()(x)\n",
    "    x = keras.layers.add([x,y])\n",
    "    x = Activation('relu')(x)\n",
    "\n",
    "    \n",
    "    x = Conv1D(16, kernel_size=3, strides=1, padding=\"same\")(x)\n",
    "#     x = MaxPooling1D(pool_size=5)(x)\n",
    "    x = BatchNormalization()(x)\n",
    "    y = x\n",
    "    x = Activation('relu')(x)\n",
    "    \n",
    "    \n",
    "    x = Conv1D(16, kernel_size=3, strides=1, padding=\"same\")(x)\n",
    "#     x = MaxPooling1D(pool_size=5)(x)\n",
    "    x = BatchNormalization()(x)\n",
    "    x = Activation('relu')(x)\n",
    "\n",
    "    x = Conv1D(16, kernel_size=3, strides=1, padding=\"same\")(x)\n",
    "#     x = MaxPooling1D(pool_size=5)(x)\n",
    "    x = BatchNormalization()(x)\n",
    "    x = Activation('relu')(x)\n",
    "\n",
    "    \n",
    "    x = Conv1D(16, kernel_size=3, strides=1, padding=\"same\")(x)\n",
    "#     x = MaxPooling1D(pool_size=5)(x)\n",
    "    x = BatchNormalization()(x)\n",
    "    x = keras.layers.add([x,y])\n",
    "    x = Activation('relu')(x)\n",
    "    \n",
    "    x = Conv1D(32, kernel_size=3, strides=2, padding=\"same\")(x)\n",
    "#     x = MaxPooling1D(pool_size=5)(x)\n",
    "    x = BatchNormalization()(x)\n",
    "    y = x\n",
    "    x = Activation('relu')(x)\n",
    "\n",
    "    x = Conv1D(32, kernel_size=3, strides=1, padding=\"same\")(x)\n",
    "#     x = MaxPooling1D(pool_size=5)(x)\n",
    "#     x = BatchNormalization()(x)\n",
    "        \n",
    "    x = Conv1D(32, kernel_size=3, strides=1, padding=\"same\")(x)\n",
    "#     x = MaxPooling1D(pool_size=5)(x)\n",
    "    x = BatchNormalization()(x)\n",
    "    x = keras.layers.add([x,y])\n",
    "    x = Activation('relu')(x)\n",
    "    \n",
    "        \n",
    "    x = Conv1D(32, kernel_size=3, strides=1, padding=\"same\")(x)\n",
    "#     x = MaxPooling1D(pool_size=5)(x)\n",
    "    x = BatchNormalization()(x)\n",
    "    y = x\n",
    "    x = Activation('relu')(x)\n",
    "\n",
    "    x = Conv1D(32, kernel_size=3, strides=1, padding=\"same\")(x)\n",
    "#     x = MaxPooling1D(pool_size=5)(x)\n",
    "    x = BatchNormalization()(x)\n",
    "    x = keras.layers.add([x,y])\n",
    "    x = Activation('relu')(x)\n",
    "\n",
    "    x = Conv1D(32, kernel_size=3, strides=1, padding=\"same\")(x)\n",
    "#     x = MaxPooling1D(pool_size=5)(x)\n",
    "    x = BatchNormalization()(x)\n",
    "    y = x\n",
    "    x = Activation('relu')(x)\n",
    "\n",
    "    x = Conv1D(32, kernel_size=3, strides=1, padding=\"same\")(x)\n",
    "#     x = MaxPooling1D(pool_size=5)(x)\n",
    "    x = BatchNormalization()(x)\n",
    "    x = keras.layers.add([x,y])\n",
    "    x = Activation('relu')(x)\n",
    "\n",
    "    x = Conv1D(64, kernel_size=3, strides=2, padding=\"same\")(x)\n",
    "#     x = MaxPooling1D(pool_size=5)(x)\n",
    "    x = BatchNormalization()(x)\n",
    "    y = x\n",
    "    x = Activation('relu')(x)\n",
    "\n",
    "    x = Conv1D(64, kernel_size=3, strides=1, padding=\"same\")(x)\n",
    "#     x = MaxPooling1D(pool_size=5)(x)\n",
    "#     x = BatchNormalization()(x)\n",
    "        \n",
    "    x = Conv1D(64, kernel_size=3, strides=1, padding=\"same\")(x)\n",
    "#     x = MaxPooling1D(pool_size=5)(x)\n",
    "    x = BatchNormalization()(x)\n",
    "    x = keras.layers.add([x,y])\n",
    "    x = Activation('relu')(x)\n",
    "    \n",
    "        \n",
    "    x = Conv1D(64, kernel_size=3, strides=1, padding=\"same\")(x)\n",
    "#     x = MaxPooling1D(pool_size=5)(x)\n",
    "    x = BatchNormalization()(x)\n",
    "    y = x\n",
    "    x = Activation('relu')(x)\n",
    "\n",
    "    x = Conv1D(64, kernel_size=3, strides=1, padding=\"same\")(x)\n",
    "#     x = MaxPooling1D(pool_size=5)(x)\n",
    "    x = BatchNormalization()(x)\n",
    "    x = keras.layers.add([x,y])\n",
    "    x = Activation('relu')(x)\n",
    "\n",
    "    x = Conv1D(64, kernel_size=3, strides=1, padding=\"same\")(x)\n",
    "#     x = MaxPooling1D(pool_size=5)(x)\n",
    "    x = BatchNormalization()(x)\n",
    "    y = x\n",
    "    x = Activation('relu')(x)\n",
    "\n",
    "    x = Conv1D(64, kernel_size=3, strides=1, padding=\"same\")(x)\n",
    "#     x = MaxPooling1D(pool_size=5)(x)\n",
    "    x = BatchNormalization()(x)\n",
    "    x = keras.layers.add([x,y])\n",
    "    x = Activation('relu')(x)\n",
    "\n",
    "#     x = AveragePooling1D(pool_size=8)(x)\n",
    "    x = Flatten()(x)\n",
    "    x = Dense(units=2048, name='dense1'  ) (x)\n",
    "    x = BatchNormalization()(x)\n",
    "    x = Dropout(0.1, name='dropout1') (x)\n",
    "    x = Activation('relu')(x)\n",
    "\n",
    "#    x = Reshape((300,1))(x)\n",
    "\n",
    "#    x = Conv1D(30, kernel_size=150, strides=1, activation = 'relu')(x)\n",
    "#    x = MaxPooling1D(pool_size=2)(x)\n",
    "#    x = BatchNormalization()(x)\n",
    "\n",
    "    x = Dense(units=1024, name='dense5'  ) (x)\n",
    "    x = BatchNormalization()(x)\n",
    "    y = x\n",
    "    x = Dropout(0.1, name='dropout5') (x)\n",
    "    x = Activation('relu')(x)\n",
    "\n",
    "    x = Dense(units=512, name='dense6'  ) (x)\n",
    "    x = BatchNormalization()(x)\n",
    "    x = Dropout(0.1, name='dropout6') (x)\n",
    "    x = Activation('relu')(x)\n",
    "\n",
    "    x = Dense(units=1024, name='dense7'  ) (x)\n",
    "    x = BatchNormalization()(x)\n",
    "    x = Dropout(0.1, name='dropout7') (x)\n",
    "    x = keras.layers.add([x,y])\n",
    "    x = Activation('relu')(x)\n",
    "    \n",
    "    x = Dense(units=512, name='dense8'  ) (x)\n",
    "    x = BatchNormalization()(x)\n",
    "    x = Dropout(0.1, name='dropout8') (x)\n",
    "    x = Activation('relu')(x)\n",
    "    \n",
    "    x = Dense(units=256, name='dense9'  ) (x)\n",
    "    x = BatchNormalization()(x)\n",
    "    x = Dropout(0.1, name='dropout9') (x)\n",
    "    x = Activation('relu')(x)\n",
    "\n",
    "    x = Dense(units=128, name='dense10'  ) (x)\n",
    "    x = BatchNormalization()(x)\n",
    "    y = x\n",
    "    x = Dropout(0.1, name='dropout10') (x)\n",
    "    x = Activation('relu')(x)\n",
    "\n",
    "\n",
    "    predictions = Dense(1, activation='linear', name='predictions', kernel_initializer='he_normal')(x)\n",
    "#     predictions = Dense(1, activation='linear', name='predictions')(x)\n",
    "\n",
    "    \n",
    "\n",
    "    model = Model(inputs=inputs, outputs=predictions, name='Test_v2_DNN20190327')\n",
    "    model.compile(loss=keras.losses.mean_squared_error,\n",
    "                  optimizer=keras.optimizers.Adam(learning_rate),\n",
    "                  metrics=['mse','mae'])\n",
    "\n",
    "\n",
    "    model.summary()\n"
   ]
  },
  {
   "cell_type": "code",
   "execution_count": 17,
   "metadata": {
    "scrolled": true
   },
   "outputs": [
    {
     "name": "stdout",
     "output_type": "stream",
     "text": [
      "StartTime : 2020-11-23 15:46:16.892711\n",
      "WARNING:tensorflow:From C:\\Users\\a\\AppData\\Roaming\\Python\\Python37\\site-packages\\tensorflow\\python\\ops\\math_ops.py:3066: to_int32 (from tensorflow.python.ops.math_ops) is deprecated and will be removed in a future version.\n",
      "Instructions for updating:\n",
      "Use tf.cast instead.\n",
      "Train on 10224 samples, validate on 1136 samples\n",
      "Epoch 1/150\n",
      "10224/10224 [==============================] - 24s 2ms/step - loss: 3.2573 - mean_squared_error: 3.2573 - mean_absolute_error: 1.4905 - val_loss: 4.3637 - val_mean_squared_error: 4.3637 - val_mean_absolute_error: 1.4132\n",
      "Epoch 2/150\n",
      "10224/10224 [==============================] - 13s 1ms/step - loss: 1.3557 - mean_squared_error: 1.3557 - mean_absolute_error: 0.8411 - val_loss: 2.0123 - val_mean_squared_error: 2.0123 - val_mean_absolute_error: 1.0085\n",
      "Epoch 3/150\n",
      "10224/10224 [==============================] - 13s 1ms/step - loss: 0.9942 - mean_squared_error: 0.9942 - mean_absolute_error: 0.6893 - val_loss: 1.3377 - val_mean_squared_error: 1.3377 - val_mean_absolute_error: 0.7977\n",
      "Epoch 4/150\n",
      "10224/10224 [==============================] - 13s 1ms/step - loss: 0.8380 - mean_squared_error: 0.8380 - mean_absolute_error: 0.6318 - val_loss: 1.1239 - val_mean_squared_error: 1.1239 - val_mean_absolute_error: 0.6814\n",
      "Epoch 5/150\n",
      "10224/10224 [==============================] - 13s 1ms/step - loss: 0.7011 - mean_squared_error: 0.7011 - mean_absolute_error: 0.5754 - val_loss: 0.9401 - val_mean_squared_error: 0.9401 - val_mean_absolute_error: 0.6202\n",
      "Epoch 6/150\n",
      "10224/10224 [==============================] - 13s 1ms/step - loss: 0.6268 - mean_squared_error: 0.6268 - mean_absolute_error: 0.5447 - val_loss: 0.8573 - val_mean_squared_error: 0.8573 - val_mean_absolute_error: 0.5745\n",
      "Epoch 7/150\n",
      "10224/10224 [==============================] - 13s 1ms/step - loss: 0.5278 - mean_squared_error: 0.5278 - mean_absolute_error: 0.4981 - val_loss: 0.8602 - val_mean_squared_error: 0.8602 - val_mean_absolute_error: 0.5697\n",
      "Epoch 8/150\n",
      "10224/10224 [==============================] - 13s 1ms/step - loss: 0.4906 - mean_squared_error: 0.4906 - mean_absolute_error: 0.4832 - val_loss: 0.8839 - val_mean_squared_error: 0.8839 - val_mean_absolute_error: 0.5478\n",
      "Epoch 9/150\n",
      "10224/10224 [==============================] - 13s 1ms/step - loss: 0.4577 - mean_squared_error: 0.4577 - mean_absolute_error: 0.4698 - val_loss: 0.8727 - val_mean_squared_error: 0.8727 - val_mean_absolute_error: 0.5464\n",
      "Epoch 10/150\n",
      "10224/10224 [==============================] - 13s 1ms/step - loss: 0.4079 - mean_squared_error: 0.4079 - mean_absolute_error: 0.4430 - val_loss: 0.8349 - val_mean_squared_error: 0.8349 - val_mean_absolute_error: 0.5179\n",
      "Epoch 11/150\n",
      "10224/10224 [==============================] - 13s 1ms/step - loss: 0.3841 - mean_squared_error: 0.3841 - mean_absolute_error: 0.4325 - val_loss: 0.7978 - val_mean_squared_error: 0.7978 - val_mean_absolute_error: 0.5329\n",
      "Epoch 12/150\n",
      "10224/10224 [==============================] - 13s 1ms/step - loss: 0.3838 - mean_squared_error: 0.3838 - mean_absolute_error: 0.4348 - val_loss: 0.8233 - val_mean_squared_error: 0.8233 - val_mean_absolute_error: 0.5113\n",
      "Epoch 13/150\n",
      "10224/10224 [==============================] - 13s 1ms/step - loss: 0.3395 - mean_squared_error: 0.3395 - mean_absolute_error: 0.4138 - val_loss: 0.8197 - val_mean_squared_error: 0.8197 - val_mean_absolute_error: 0.5017\n",
      "Epoch 14/150\n",
      "10224/10224 [==============================] - 13s 1ms/step - loss: 0.3040 - mean_squared_error: 0.3040 - mean_absolute_error: 0.3919 - val_loss: 0.8292 - val_mean_squared_error: 0.8292 - val_mean_absolute_error: 0.5117\n",
      "Epoch 15/150\n",
      "10224/10224 [==============================] - 13s 1ms/step - loss: 0.2844 - mean_squared_error: 0.2844 - mean_absolute_error: 0.3782 - val_loss: 0.8221 - val_mean_squared_error: 0.8221 - val_mean_absolute_error: 0.4940\n",
      "Epoch 16/150\n",
      "10224/10224 [==============================] - 13s 1ms/step - loss: 0.2787 - mean_squared_error: 0.2787 - mean_absolute_error: 0.3768 - val_loss: 0.8321 - val_mean_squared_error: 0.8321 - val_mean_absolute_error: 0.4865\n",
      "Epoch 17/150\n",
      "10224/10224 [==============================] - 13s 1ms/step - loss: 0.2743 - mean_squared_error: 0.2743 - mean_absolute_error: 0.3715 - val_loss: 0.8401 - val_mean_squared_error: 0.8401 - val_mean_absolute_error: 0.4908\n",
      "Epoch 18/150\n",
      "10224/10224 [==============================] - 13s 1ms/step - loss: 0.2415 - mean_squared_error: 0.2415 - mean_absolute_error: 0.3513 - val_loss: 0.8196 - val_mean_squared_error: 0.8196 - val_mean_absolute_error: 0.4904\n",
      "Epoch 19/150\n",
      "10224/10224 [==============================] - 13s 1ms/step - loss: 0.2493 - mean_squared_error: 0.2493 - mean_absolute_error: 0.3550 - val_loss: 0.7989 - val_mean_squared_error: 0.7989 - val_mean_absolute_error: 0.4757\n",
      "Epoch 20/150\n",
      "10224/10224 [==============================] - 13s 1ms/step - loss: 0.2341 - mean_squared_error: 0.2341 - mean_absolute_error: 0.3431 - val_loss: 0.8292 - val_mean_squared_error: 0.8292 - val_mean_absolute_error: 0.4720\n",
      "Epoch 21/150\n",
      "10224/10224 [==============================] - 13s 1ms/step - loss: 0.2233 - mean_squared_error: 0.2233 - mean_absolute_error: 0.3376 - val_loss: 0.8386 - val_mean_squared_error: 0.8386 - val_mean_absolute_error: 0.4700\n",
      "Epoch 22/150\n",
      "10224/10224 [==============================] - 13s 1ms/step - loss: 0.2084 - mean_squared_error: 0.2084 - mean_absolute_error: 0.3272 - val_loss: 0.8164 - val_mean_squared_error: 0.8164 - val_mean_absolute_error: 0.4871\n",
      "Epoch 23/150\n",
      "10224/10224 [==============================] - 13s 1ms/step - loss: 0.2125 - mean_squared_error: 0.2125 - mean_absolute_error: 0.3289 - val_loss: 0.7776 - val_mean_squared_error: 0.7776 - val_mean_absolute_error: 0.4708\n",
      "Epoch 24/150\n",
      "10224/10224 [==============================] - 13s 1ms/step - loss: 0.2156 - mean_squared_error: 0.2156 - mean_absolute_error: 0.3292 - val_loss: 0.8566 - val_mean_squared_error: 0.8566 - val_mean_absolute_error: 0.4916\n",
      "Epoch 25/150\n",
      "10224/10224 [==============================] - 13s 1ms/step - loss: 0.1945 - mean_squared_error: 0.1945 - mean_absolute_error: 0.3138 - val_loss: 0.8199 - val_mean_squared_error: 0.8199 - val_mean_absolute_error: 0.4746\n",
      "Epoch 26/150\n",
      "10224/10224 [==============================] - 13s 1ms/step - loss: 0.2011 - mean_squared_error: 0.2011 - mean_absolute_error: 0.3149 - val_loss: 0.7910 - val_mean_squared_error: 0.7910 - val_mean_absolute_error: 0.4721\n",
      "Epoch 27/150\n",
      "10224/10224 [==============================] - 13s 1ms/step - loss: 0.1784 - mean_squared_error: 0.1784 - mean_absolute_error: 0.3021 - val_loss: 0.8366 - val_mean_squared_error: 0.8366 - val_mean_absolute_error: 0.4812\n",
      "Epoch 28/150\n",
      "10224/10224 [==============================] - 13s 1ms/step - loss: 0.1849 - mean_squared_error: 0.1849 - mean_absolute_error: 0.3067 - val_loss: 0.7984 - val_mean_squared_error: 0.7984 - val_mean_absolute_error: 0.4620\n",
      "Epoch 29/150\n",
      "10224/10224 [==============================] - 13s 1ms/step - loss: 0.1822 - mean_squared_error: 0.1822 - mean_absolute_error: 0.3041 - val_loss: 0.7928 - val_mean_squared_error: 0.7928 - val_mean_absolute_error: 0.4634\n",
      "Epoch 30/150\n",
      "10224/10224 [==============================] - 13s 1ms/step - loss: 0.1613 - mean_squared_error: 0.1613 - mean_absolute_error: 0.2872 - val_loss: 0.7871 - val_mean_squared_error: 0.7871 - val_mean_absolute_error: 0.4631\n",
      "Epoch 31/150\n",
      "10224/10224 [==============================] - 13s 1ms/step - loss: 0.1670 - mean_squared_error: 0.1670 - mean_absolute_error: 0.2891 - val_loss: 0.8234 - val_mean_squared_error: 0.8234 - val_mean_absolute_error: 0.4733\n",
      "Epoch 32/150\n",
      "10224/10224 [==============================] - 13s 1ms/step - loss: 0.1646 - mean_squared_error: 0.1646 - mean_absolute_error: 0.2893 - val_loss: 0.7998 - val_mean_squared_error: 0.7998 - val_mean_absolute_error: 0.4650\n",
      "Epoch 33/150\n",
      "10224/10224 [==============================] - 13s 1ms/step - loss: 0.1642 - mean_squared_error: 0.1642 - mean_absolute_error: 0.2859 - val_loss: 0.7954 - val_mean_squared_error: 0.7954 - val_mean_absolute_error: 0.4628\n",
      "Epoch 34/150\n",
      "10224/10224 [==============================] - 13s 1ms/step - loss: 0.1627 - mean_squared_error: 0.1627 - mean_absolute_error: 0.2880 - val_loss: 0.7680 - val_mean_squared_error: 0.7680 - val_mean_absolute_error: 0.4770\n"
     ]
    },
    {
     "name": "stdout",
     "output_type": "stream",
     "text": [
      "Epoch 35/150\n",
      "10224/10224 [==============================] - 13s 1ms/step - loss: 0.1508 - mean_squared_error: 0.1508 - mean_absolute_error: 0.2815 - val_loss: 0.7925 - val_mean_squared_error: 0.7925 - val_mean_absolute_error: 0.4657\n",
      "Epoch 36/150\n",
      "10224/10224 [==============================] - 13s 1ms/step - loss: 0.1431 - mean_squared_error: 0.1431 - mean_absolute_error: 0.2682 - val_loss: 0.8000 - val_mean_squared_error: 0.8000 - val_mean_absolute_error: 0.4537\n",
      "Epoch 37/150\n",
      "10224/10224 [==============================] - 13s 1ms/step - loss: 0.1356 - mean_squared_error: 0.1356 - mean_absolute_error: 0.2599 - val_loss: 0.7710 - val_mean_squared_error: 0.7710 - val_mean_absolute_error: 0.4544\n",
      "Epoch 38/150\n",
      "10224/10224 [==============================] - 13s 1ms/step - loss: 0.1464 - mean_squared_error: 0.1464 - mean_absolute_error: 0.2686 - val_loss: 0.8117 - val_mean_squared_error: 0.8117 - val_mean_absolute_error: 0.4494\n",
      "Epoch 39/150\n",
      "10224/10224 [==============================] - 13s 1ms/step - loss: 0.1609 - mean_squared_error: 0.1609 - mean_absolute_error: 0.2838 - val_loss: 0.7632 - val_mean_squared_error: 0.7632 - val_mean_absolute_error: 0.4625\n",
      "Epoch 40/150\n",
      "10224/10224 [==============================] - 13s 1ms/step - loss: 0.2133 - mean_squared_error: 0.2133 - mean_absolute_error: 0.3028 - val_loss: 0.7588 - val_mean_squared_error: 0.7588 - val_mean_absolute_error: 0.4733\n",
      "Epoch 41/150\n",
      "10224/10224 [==============================] - 13s 1ms/step - loss: 0.1712 - mean_squared_error: 0.1712 - mean_absolute_error: 0.2872 - val_loss: 0.7713 - val_mean_squared_error: 0.7713 - val_mean_absolute_error: 0.4647\n",
      "Epoch 42/150\n",
      "10224/10224 [==============================] - 13s 1ms/step - loss: 0.1538 - mean_squared_error: 0.1538 - mean_absolute_error: 0.2735 - val_loss: 0.8352 - val_mean_squared_error: 0.8352 - val_mean_absolute_error: 0.4788\n",
      "Epoch 43/150\n",
      "10224/10224 [==============================] - 13s 1ms/step - loss: 0.1622 - mean_squared_error: 0.1622 - mean_absolute_error: 0.2780 - val_loss: 0.8278 - val_mean_squared_error: 0.8278 - val_mean_absolute_error: 0.4621\n",
      "Epoch 44/150\n",
      "10224/10224 [==============================] - 13s 1ms/step - loss: 0.1628 - mean_squared_error: 0.1628 - mean_absolute_error: 0.2748 - val_loss: 0.7660 - val_mean_squared_error: 0.7660 - val_mean_absolute_error: 0.4564\n",
      "Epoch 45/150\n",
      "10224/10224 [==============================] - 13s 1ms/step - loss: 0.1570 - mean_squared_error: 0.1570 - mean_absolute_error: 0.2752 - val_loss: 0.7616 - val_mean_squared_error: 0.7616 - val_mean_absolute_error: 0.4510\n",
      "Epoch 46/150\n",
      "10224/10224 [==============================] - 13s 1ms/step - loss: 0.1286 - mean_squared_error: 0.1286 - mean_absolute_error: 0.2541 - val_loss: 0.7764 - val_mean_squared_error: 0.7764 - val_mean_absolute_error: 0.4439\n",
      "Epoch 47/150\n",
      "10224/10224 [==============================] - 13s 1ms/step - loss: 0.1306 - mean_squared_error: 0.1306 - mean_absolute_error: 0.2580 - val_loss: 0.7605 - val_mean_squared_error: 0.7605 - val_mean_absolute_error: 0.4543\n",
      "Epoch 48/150\n",
      "10224/10224 [==============================] - 13s 1ms/step - loss: 0.1610 - mean_squared_error: 0.1610 - mean_absolute_error: 0.2676 - val_loss: 0.8666 - val_mean_squared_error: 0.8666 - val_mean_absolute_error: 0.4896\n",
      "Epoch 49/150\n",
      "10224/10224 [==============================] - 13s 1ms/step - loss: 0.2971 - mean_squared_error: 0.2971 - mean_absolute_error: 0.3364 - val_loss: 0.8319 - val_mean_squared_error: 0.8319 - val_mean_absolute_error: 0.4756\n",
      "Epoch 50/150\n",
      "10224/10224 [==============================] - 13s 1ms/step - loss: 0.2722 - mean_squared_error: 0.2722 - mean_absolute_error: 0.3274 - val_loss: 0.9482 - val_mean_squared_error: 0.9482 - val_mean_absolute_error: 0.4868\n",
      "Epoch 51/150\n",
      "10224/10224 [==============================] - 13s 1ms/step - loss: 0.1988 - mean_squared_error: 0.1988 - mean_absolute_error: 0.2948 - val_loss: 0.8638 - val_mean_squared_error: 0.8638 - val_mean_absolute_error: 0.4827\n",
      "Epoch 52/150\n",
      "10224/10224 [==============================] - 13s 1ms/step - loss: 0.1950 - mean_squared_error: 0.1950 - mean_absolute_error: 0.2890 - val_loss: 0.8619 - val_mean_squared_error: 0.8619 - val_mean_absolute_error: 0.4883\n",
      "Epoch 53/150\n",
      "10224/10224 [==============================] - 13s 1ms/step - loss: 0.1521 - mean_squared_error: 0.1521 - mean_absolute_error: 0.2622 - val_loss: 0.8755 - val_mean_squared_error: 0.8755 - val_mean_absolute_error: 0.4568\n",
      "Epoch 54/150\n",
      "10224/10224 [==============================] - 13s 1ms/step - loss: 0.1307 - mean_squared_error: 0.1307 - mean_absolute_error: 0.2563 - val_loss: 0.8424 - val_mean_squared_error: 0.8424 - val_mean_absolute_error: 0.4636\n",
      "Epoch 55/150\n",
      "10224/10224 [==============================] - 13s 1ms/step - loss: 0.1168 - mean_squared_error: 0.1168 - mean_absolute_error: 0.2443 - val_loss: 0.8280 - val_mean_squared_error: 0.8280 - val_mean_absolute_error: 0.4438\n",
      "Epoch 56/150\n",
      "10224/10224 [==============================] - 13s 1ms/step - loss: 0.1078 - mean_squared_error: 0.1078 - mean_absolute_error: 0.2330 - val_loss: 0.8238 - val_mean_squared_error: 0.8238 - val_mean_absolute_error: 0.4579\n",
      "Epoch 57/150\n",
      "10224/10224 [==============================] - 13s 1ms/step - loss: 0.1321 - mean_squared_error: 0.1321 - mean_absolute_error: 0.2419 - val_loss: 0.7469 - val_mean_squared_error: 0.7469 - val_mean_absolute_error: 0.4377\n",
      "Epoch 58/150\n",
      "10224/10224 [==============================] - 13s 1ms/step - loss: 0.1104 - mean_squared_error: 0.1104 - mean_absolute_error: 0.2365 - val_loss: 0.8017 - val_mean_squared_error: 0.8017 - val_mean_absolute_error: 0.4493\n",
      "Epoch 59/150\n",
      "10224/10224 [==============================] - 13s 1ms/step - loss: 0.1092 - mean_squared_error: 0.1092 - mean_absolute_error: 0.2295 - val_loss: 0.7692 - val_mean_squared_error: 0.7692 - val_mean_absolute_error: 0.4488\n",
      "Epoch 60/150\n",
      "10224/10224 [==============================] - 13s 1ms/step - loss: 0.1115 - mean_squared_error: 0.1115 - mean_absolute_error: 0.2340 - val_loss: 0.7251 - val_mean_squared_error: 0.7251 - val_mean_absolute_error: 0.4475\n",
      "Epoch 61/150\n",
      "10224/10224 [==============================] - 13s 1ms/step - loss: 0.1016 - mean_squared_error: 0.1016 - mean_absolute_error: 0.2255 - val_loss: 0.7597 - val_mean_squared_error: 0.7597 - val_mean_absolute_error: 0.4438\n",
      "Epoch 62/150\n",
      "10224/10224 [==============================] - 13s 1ms/step - loss: 0.0977 - mean_squared_error: 0.0977 - mean_absolute_error: 0.2253 - val_loss: 0.7579 - val_mean_squared_error: 0.7579 - val_mean_absolute_error: 0.4441\n",
      "Epoch 63/150\n",
      "10224/10224 [==============================] - 13s 1ms/step - loss: 0.0947 - mean_squared_error: 0.0947 - mean_absolute_error: 0.2209 - val_loss: 0.7539 - val_mean_squared_error: 0.7539 - val_mean_absolute_error: 0.4474\n",
      "Epoch 64/150\n",
      "10224/10224 [==============================] - 13s 1ms/step - loss: 0.0893 - mean_squared_error: 0.0893 - mean_absolute_error: 0.2130 - val_loss: 0.7586 - val_mean_squared_error: 0.7586 - val_mean_absolute_error: 0.4518\n",
      "Epoch 65/150\n",
      "10224/10224 [==============================] - 13s 1ms/step - loss: 0.0850 - mean_squared_error: 0.0850 - mean_absolute_error: 0.2111 - val_loss: 0.7682 - val_mean_squared_error: 0.7682 - val_mean_absolute_error: 0.4353\n",
      "Epoch 66/150\n",
      "10224/10224 [==============================] - 13s 1ms/step - loss: 0.0913 - mean_squared_error: 0.0913 - mean_absolute_error: 0.2136 - val_loss: 0.7712 - val_mean_squared_error: 0.7712 - val_mean_absolute_error: 0.4456\n",
      "Epoch 67/150\n",
      "10224/10224 [==============================] - 13s 1ms/step - loss: 0.0850 - mean_squared_error: 0.0850 - mean_absolute_error: 0.2097 - val_loss: 0.7502 - val_mean_squared_error: 0.7502 - val_mean_absolute_error: 0.4349\n",
      "Epoch 68/150\n",
      "10224/10224 [==============================] - 13s 1ms/step - loss: 0.0821 - mean_squared_error: 0.0821 - mean_absolute_error: 0.2037 - val_loss: 0.7668 - val_mean_squared_error: 0.7668 - val_mean_absolute_error: 0.4392\n",
      "Epoch 69/150\n",
      "10224/10224 [==============================] - 13s 1ms/step - loss: 0.0813 - mean_squared_error: 0.0813 - mean_absolute_error: 0.2056 - val_loss: 0.7877 - val_mean_squared_error: 0.7877 - val_mean_absolute_error: 0.4402\n",
      "Epoch 70/150\n"
     ]
    },
    {
     "name": "stdout",
     "output_type": "stream",
     "text": [
      "10224/10224 [==============================] - 13s 1ms/step - loss: 0.0945 - mean_squared_error: 0.0945 - mean_absolute_error: 0.2131 - val_loss: 0.7648 - val_mean_squared_error: 0.7648 - val_mean_absolute_error: 0.4398\n",
      "Epoch 71/150\n",
      "10224/10224 [==============================] - 13s 1ms/step - loss: 0.0890 - mean_squared_error: 0.0890 - mean_absolute_error: 0.2107 - val_loss: 0.7588 - val_mean_squared_error: 0.7588 - val_mean_absolute_error: 0.4370\n",
      "Epoch 72/150\n",
      "10224/10224 [==============================] - 13s 1ms/step - loss: 0.0894 - mean_squared_error: 0.0894 - mean_absolute_error: 0.2136 - val_loss: 0.7894 - val_mean_squared_error: 0.7894 - val_mean_absolute_error: 0.4491\n",
      "Epoch 73/150\n",
      "10224/10224 [==============================] - 13s 1ms/step - loss: 0.1286 - mean_squared_error: 0.1286 - mean_absolute_error: 0.2357 - val_loss: 0.8089 - val_mean_squared_error: 0.8089 - val_mean_absolute_error: 0.4712\n",
      "Epoch 74/150\n",
      "10224/10224 [==============================] - 13s 1ms/step - loss: 0.1650 - mean_squared_error: 0.1650 - mean_absolute_error: 0.2555 - val_loss: 0.8612 - val_mean_squared_error: 0.8612 - val_mean_absolute_error: 0.4843\n",
      "Epoch 75/150\n",
      "10224/10224 [==============================] - 13s 1ms/step - loss: 0.1614 - mean_squared_error: 0.1614 - mean_absolute_error: 0.2593 - val_loss: 0.8351 - val_mean_squared_error: 0.8351 - val_mean_absolute_error: 0.4732\n",
      "Epoch 76/150\n",
      "10224/10224 [==============================] - 13s 1ms/step - loss: 0.3293 - mean_squared_error: 0.3293 - mean_absolute_error: 0.3270 - val_loss: 0.9943 - val_mean_squared_error: 0.9943 - val_mean_absolute_error: 0.5301\n",
      "Epoch 77/150\n",
      "10224/10224 [==============================] - 13s 1ms/step - loss: 0.2881 - mean_squared_error: 0.2881 - mean_absolute_error: 0.3236 - val_loss: 0.9760 - val_mean_squared_error: 0.9760 - val_mean_absolute_error: 0.4914\n",
      "Epoch 78/150\n",
      "10224/10224 [==============================] - 13s 1ms/step - loss: 0.1710 - mean_squared_error: 0.1710 - mean_absolute_error: 0.2742 - val_loss: 0.8355 - val_mean_squared_error: 0.8355 - val_mean_absolute_error: 0.4769\n",
      "Epoch 79/150\n",
      "10224/10224 [==============================] - 13s 1ms/step - loss: 0.1182 - mean_squared_error: 0.1182 - mean_absolute_error: 0.2358 - val_loss: 0.8327 - val_mean_squared_error: 0.8327 - val_mean_absolute_error: 0.4460\n",
      "Epoch 80/150\n",
      "10224/10224 [==============================] - 13s 1ms/step - loss: 0.0928 - mean_squared_error: 0.0928 - mean_absolute_error: 0.2126 - val_loss: 0.7874 - val_mean_squared_error: 0.7874 - val_mean_absolute_error: 0.4541\n",
      "Epoch 81/150\n",
      "10224/10224 [==============================] - 13s 1ms/step - loss: 0.0825 - mean_squared_error: 0.0825 - mean_absolute_error: 0.2065 - val_loss: 0.7978 - val_mean_squared_error: 0.7978 - val_mean_absolute_error: 0.4495\n",
      "Epoch 82/150\n",
      "10224/10224 [==============================] - 13s 1ms/step - loss: 0.0741 - mean_squared_error: 0.0741 - mean_absolute_error: 0.1946 - val_loss: 0.7988 - val_mean_squared_error: 0.7988 - val_mean_absolute_error: 0.4459\n",
      "Epoch 83/150\n",
      "10224/10224 [==============================] - 13s 1ms/step - loss: 0.0758 - mean_squared_error: 0.0758 - mean_absolute_error: 0.1977 - val_loss: 0.7872 - val_mean_squared_error: 0.7872 - val_mean_absolute_error: 0.4418\n",
      "Epoch 84/150\n",
      "10224/10224 [==============================] - 13s 1ms/step - loss: 0.0696 - mean_squared_error: 0.0696 - mean_absolute_error: 0.1877 - val_loss: 0.7884 - val_mean_squared_error: 0.7884 - val_mean_absolute_error: 0.4454\n",
      "Epoch 85/150\n",
      "10224/10224 [==============================] - 13s 1ms/step - loss: 0.0714 - mean_squared_error: 0.0714 - mean_absolute_error: 0.1906 - val_loss: 0.7989 - val_mean_squared_error: 0.7989 - val_mean_absolute_error: 0.4384\n",
      "Epoch 86/150\n",
      "10224/10224 [==============================] - 13s 1ms/step - loss: 0.0672 - mean_squared_error: 0.0672 - mean_absolute_error: 0.1850 - val_loss: 0.7819 - val_mean_squared_error: 0.7819 - val_mean_absolute_error: 0.4444\n",
      "Epoch 87/150\n",
      "10224/10224 [==============================] - 13s 1ms/step - loss: 0.0638 - mean_squared_error: 0.0638 - mean_absolute_error: 0.1828 - val_loss: 0.7858 - val_mean_squared_error: 0.7858 - val_mean_absolute_error: 0.4351\n",
      "Epoch 88/150\n",
      "10224/10224 [==============================] - 13s 1ms/step - loss: 0.0606 - mean_squared_error: 0.0606 - mean_absolute_error: 0.1755 - val_loss: 0.7629 - val_mean_squared_error: 0.7629 - val_mean_absolute_error: 0.4312\n",
      "Epoch 89/150\n",
      "10224/10224 [==============================] - 13s 1ms/step - loss: 0.0594 - mean_squared_error: 0.0594 - mean_absolute_error: 0.1764 - val_loss: 0.7546 - val_mean_squared_error: 0.7546 - val_mean_absolute_error: 0.4327\n",
      "Epoch 90/150\n",
      "10224/10224 [==============================] - 13s 1ms/step - loss: 0.0646 - mean_squared_error: 0.0646 - mean_absolute_error: 0.1820 - val_loss: 0.7695 - val_mean_squared_error: 0.7695 - val_mean_absolute_error: 0.4332\n",
      "Epoch 91/150\n",
      "10224/10224 [==============================] - 13s 1ms/step - loss: 0.0745 - mean_squared_error: 0.0745 - mean_absolute_error: 0.1846 - val_loss: 0.7891 - val_mean_squared_error: 0.7891 - val_mean_absolute_error: 0.4338\n",
      "Epoch 92/150\n",
      "10224/10224 [==============================] - 13s 1ms/step - loss: 0.0695 - mean_squared_error: 0.0695 - mean_absolute_error: 0.1827 - val_loss: 0.7917 - val_mean_squared_error: 0.7917 - val_mean_absolute_error: 0.4404\n",
      "Epoch 93/150\n",
      "10224/10224 [==============================] - 13s 1ms/step - loss: 0.0627 - mean_squared_error: 0.0627 - mean_absolute_error: 0.1780 - val_loss: 0.8522 - val_mean_squared_error: 0.8522 - val_mean_absolute_error: 0.4464\n",
      "Epoch 94/150\n",
      "10224/10224 [==============================] - 13s 1ms/step - loss: 0.0782 - mean_squared_error: 0.0782 - mean_absolute_error: 0.1855 - val_loss: 0.7797 - val_mean_squared_error: 0.7797 - val_mean_absolute_error: 0.4333\n",
      "Epoch 95/150\n",
      "10224/10224 [==============================] - 13s 1ms/step - loss: 0.0817 - mean_squared_error: 0.0817 - mean_absolute_error: 0.1899 - val_loss: 0.8011 - val_mean_squared_error: 0.8011 - val_mean_absolute_error: 0.4451\n",
      "Epoch 96/150\n",
      "10224/10224 [==============================] - 13s 1ms/step - loss: 0.0703 - mean_squared_error: 0.0703 - mean_absolute_error: 0.1820 - val_loss: 0.7992 - val_mean_squared_error: 0.7992 - val_mean_absolute_error: 0.4501\n",
      "Epoch 97/150\n",
      "10224/10224 [==============================] - 13s 1ms/step - loss: 0.0805 - mean_squared_error: 0.0805 - mean_absolute_error: 0.1899 - val_loss: 0.8210 - val_mean_squared_error: 0.8210 - val_mean_absolute_error: 0.4534\n",
      "Epoch 98/150\n",
      "10224/10224 [==============================] - 13s 1ms/step - loss: 0.0682 - mean_squared_error: 0.0682 - mean_absolute_error: 0.1821 - val_loss: 0.8317 - val_mean_squared_error: 0.8317 - val_mean_absolute_error: 0.4531\n",
      "Epoch 99/150\n",
      "10224/10224 [==============================] - 13s 1ms/step - loss: 0.0637 - mean_squared_error: 0.0637 - mean_absolute_error: 0.1750 - val_loss: 0.8054 - val_mean_squared_error: 0.8054 - val_mean_absolute_error: 0.4425\n",
      "Epoch 100/150\n",
      "10224/10224 [==============================] - 13s 1ms/step - loss: 0.0567 - mean_squared_error: 0.0567 - mean_absolute_error: 0.1693 - val_loss: 0.7985 - val_mean_squared_error: 0.7985 - val_mean_absolute_error: 0.4393\n",
      "Epoch 101/150\n",
      "10224/10224 [==============================] - 13s 1ms/step - loss: 0.0562 - mean_squared_error: 0.0562 - mean_absolute_error: 0.1690 - val_loss: 0.8179 - val_mean_squared_error: 0.8179 - val_mean_absolute_error: 0.4525\n",
      "Epoch 102/150\n",
      "10224/10224 [==============================] - 13s 1ms/step - loss: 0.0617 - mean_squared_error: 0.0617 - mean_absolute_error: 0.1722 - val_loss: 0.8090 - val_mean_squared_error: 0.8090 - val_mean_absolute_error: 0.4471\n",
      "Epoch 103/150\n",
      "10224/10224 [==============================] - 13s 1ms/step - loss: 0.0721 - mean_squared_error: 0.0721 - mean_absolute_error: 0.1741 - val_loss: 0.7986 - val_mean_squared_error: 0.7986 - val_mean_absolute_error: 0.4484\n",
      "Epoch 104/150\n",
      "10224/10224 [==============================] - 13s 1ms/step - loss: 0.1387 - mean_squared_error: 0.1387 - mean_absolute_error: 0.2201 - val_loss: 0.8475 - val_mean_squared_error: 0.8475 - val_mean_absolute_error: 0.4605\n",
      "Epoch 105/150\n"
     ]
    },
    {
     "name": "stdout",
     "output_type": "stream",
     "text": [
      "10224/10224 [==============================] - 13s 1ms/step - loss: 0.1284 - mean_squared_error: 0.1284 - mean_absolute_error: 0.2209 - val_loss: 0.8817 - val_mean_squared_error: 0.8817 - val_mean_absolute_error: 0.4803\n",
      "Epoch 106/150\n",
      "10224/10224 [==============================] - 13s 1ms/step - loss: 0.1195 - mean_squared_error: 0.1195 - mean_absolute_error: 0.2144 - val_loss: 0.9085 - val_mean_squared_error: 0.9085 - val_mean_absolute_error: 0.4804\n",
      "Epoch 107/150\n",
      "10224/10224 [==============================] - 13s 1ms/step - loss: 0.1421 - mean_squared_error: 0.1421 - mean_absolute_error: 0.2295 - val_loss: 0.8936 - val_mean_squared_error: 0.8936 - val_mean_absolute_error: 0.4880\n",
      "Epoch 108/150\n",
      "10224/10224 [==============================] - 13s 1ms/step - loss: 0.1866 - mean_squared_error: 0.1866 - mean_absolute_error: 0.2591 - val_loss: 0.9544 - val_mean_squared_error: 0.9544 - val_mean_absolute_error: 0.4853\n",
      "Epoch 109/150\n",
      "10224/10224 [==============================] - 13s 1ms/step - loss: 0.1356 - mean_squared_error: 0.1356 - mean_absolute_error: 0.2327 - val_loss: 0.7719 - val_mean_squared_error: 0.7719 - val_mean_absolute_error: 0.4375\n",
      "Epoch 110/150\n",
      "10224/10224 [==============================] - 13s 1ms/step - loss: 0.0962 - mean_squared_error: 0.0962 - mean_absolute_error: 0.2033 - val_loss: 0.8415 - val_mean_squared_error: 0.8415 - val_mean_absolute_error: 0.4447\n",
      "Epoch 111/150\n",
      "10224/10224 [==============================] - 13s 1ms/step - loss: 0.0814 - mean_squared_error: 0.0814 - mean_absolute_error: 0.1951 - val_loss: 0.7665 - val_mean_squared_error: 0.7665 - val_mean_absolute_error: 0.4350\n",
      "Epoch 112/150\n",
      "10224/10224 [==============================] - 13s 1ms/step - loss: 0.0633 - mean_squared_error: 0.0633 - mean_absolute_error: 0.1763 - val_loss: 0.8236 - val_mean_squared_error: 0.8236 - val_mean_absolute_error: 0.4420\n",
      "Epoch 113/150\n",
      "10224/10224 [==============================] - 13s 1ms/step - loss: 0.0672 - mean_squared_error: 0.0672 - mean_absolute_error: 0.1741 - val_loss: 0.8259 - val_mean_squared_error: 0.8259 - val_mean_absolute_error: 0.4367\n",
      "Epoch 114/150\n",
      "10224/10224 [==============================] - 13s 1ms/step - loss: 0.0648 - mean_squared_error: 0.0648 - mean_absolute_error: 0.1705 - val_loss: 0.8120 - val_mean_squared_error: 0.8120 - val_mean_absolute_error: 0.4624\n",
      "Epoch 115/150\n",
      "10224/10224 [==============================] - 13s 1ms/step - loss: 0.0763 - mean_squared_error: 0.0763 - mean_absolute_error: 0.1754 - val_loss: 0.8241 - val_mean_squared_error: 0.8241 - val_mean_absolute_error: 0.4541\n",
      "Epoch 116/150\n",
      "10224/10224 [==============================] - 13s 1ms/step - loss: 0.0930 - mean_squared_error: 0.0930 - mean_absolute_error: 0.1858 - val_loss: 0.8131 - val_mean_squared_error: 0.8131 - val_mean_absolute_error: 0.4522\n",
      "Epoch 117/150\n",
      "10224/10224 [==============================] - 13s 1ms/step - loss: 0.0684 - mean_squared_error: 0.0684 - mean_absolute_error: 0.1789 - val_loss: 0.8254 - val_mean_squared_error: 0.8254 - val_mean_absolute_error: 0.4495\n",
      "Epoch 118/150\n",
      "10224/10224 [==============================] - 13s 1ms/step - loss: 0.0569 - mean_squared_error: 0.0569 - mean_absolute_error: 0.1695 - val_loss: 0.8114 - val_mean_squared_error: 0.8114 - val_mean_absolute_error: 0.4394\n",
      "Epoch 119/150\n",
      "10224/10224 [==============================] - 13s 1ms/step - loss: 0.0481 - mean_squared_error: 0.0481 - mean_absolute_error: 0.1573 - val_loss: 0.8046 - val_mean_squared_error: 0.8046 - val_mean_absolute_error: 0.4413\n",
      "Epoch 120/150\n",
      "10224/10224 [==============================] - 13s 1ms/step - loss: 0.0489 - mean_squared_error: 0.0489 - mean_absolute_error: 0.1573 - val_loss: 0.7817 - val_mean_squared_error: 0.7817 - val_mean_absolute_error: 0.4305\n",
      "Epoch 121/150\n",
      "10224/10224 [==============================] - 13s 1ms/step - loss: 0.0491 - mean_squared_error: 0.0491 - mean_absolute_error: 0.1549 - val_loss: 0.8045 - val_mean_squared_error: 0.8045 - val_mean_absolute_error: 0.4390\n",
      "Epoch 122/150\n",
      "10224/10224 [==============================] - 13s 1ms/step - loss: 0.0473 - mean_squared_error: 0.0473 - mean_absolute_error: 0.1555 - val_loss: 0.7982 - val_mean_squared_error: 0.7982 - val_mean_absolute_error: 0.4375\n",
      "Epoch 123/150\n",
      "10224/10224 [==============================] - 13s 1ms/step - loss: 0.0500 - mean_squared_error: 0.0500 - mean_absolute_error: 0.1569 - val_loss: 0.8102 - val_mean_squared_error: 0.8102 - val_mean_absolute_error: 0.4377\n",
      "Epoch 124/150\n",
      "10224/10224 [==============================] - 13s 1ms/step - loss: 0.0436 - mean_squared_error: 0.0436 - mean_absolute_error: 0.1498 - val_loss: 0.7882 - val_mean_squared_error: 0.7882 - val_mean_absolute_error: 0.4311\n",
      "Epoch 125/150\n",
      "10224/10224 [==============================] - 13s 1ms/step - loss: 0.0423 - mean_squared_error: 0.0423 - mean_absolute_error: 0.1475 - val_loss: 0.7981 - val_mean_squared_error: 0.7981 - val_mean_absolute_error: 0.4335\n",
      "Epoch 126/150\n",
      "10224/10224 [==============================] - 13s 1ms/step - loss: 0.0462 - mean_squared_error: 0.0462 - mean_absolute_error: 0.1526 - val_loss: 0.7993 - val_mean_squared_error: 0.7993 - val_mean_absolute_error: 0.4390\n",
      "Epoch 127/150\n",
      "10224/10224 [==============================] - 13s 1ms/step - loss: 0.0448 - mean_squared_error: 0.0448 - mean_absolute_error: 0.1517 - val_loss: 0.8368 - val_mean_squared_error: 0.8368 - val_mean_absolute_error: 0.4491\n",
      "Epoch 128/150\n",
      "10224/10224 [==============================] - 13s 1ms/step - loss: 0.0445 - mean_squared_error: 0.0445 - mean_absolute_error: 0.1498 - val_loss: 0.8117 - val_mean_squared_error: 0.8117 - val_mean_absolute_error: 0.4409\n",
      "Epoch 129/150\n",
      "10224/10224 [==============================] - 13s 1ms/step - loss: 0.0447 - mean_squared_error: 0.0447 - mean_absolute_error: 0.1474 - val_loss: 0.8080 - val_mean_squared_error: 0.8080 - val_mean_absolute_error: 0.4438\n",
      "Epoch 130/150\n",
      "10224/10224 [==============================] - 13s 1ms/step - loss: 0.1225 - mean_squared_error: 0.1225 - mean_absolute_error: 0.2049 - val_loss: 0.8884 - val_mean_squared_error: 0.8884 - val_mean_absolute_error: 0.5001\n",
      "Epoch 131/150\n",
      "10224/10224 [==============================] - 13s 1ms/step - loss: 0.1985 - mean_squared_error: 0.1985 - mean_absolute_error: 0.2499 - val_loss: 0.9362 - val_mean_squared_error: 0.9362 - val_mean_absolute_error: 0.5346\n",
      "Epoch 132/150\n",
      "10224/10224 [==============================] - 13s 1ms/step - loss: 0.1538 - mean_squared_error: 0.1538 - mean_absolute_error: 0.2340 - val_loss: 0.9241 - val_mean_squared_error: 0.9241 - val_mean_absolute_error: 0.4882\n",
      "Epoch 133/150\n",
      "10224/10224 [==============================] - 13s 1ms/step - loss: 0.1561 - mean_squared_error: 0.1561 - mean_absolute_error: 0.2294 - val_loss: 0.8852 - val_mean_squared_error: 0.8852 - val_mean_absolute_error: 0.4664\n",
      "Epoch 134/150\n",
      "10224/10224 [==============================] - 13s 1ms/step - loss: 0.0966 - mean_squared_error: 0.0966 - mean_absolute_error: 0.1997 - val_loss: 0.8580 - val_mean_squared_error: 0.8580 - val_mean_absolute_error: 0.4524\n",
      "Epoch 135/150\n",
      "10224/10224 [==============================] - 13s 1ms/step - loss: 0.0682 - mean_squared_error: 0.0682 - mean_absolute_error: 0.1773 - val_loss: 0.8184 - val_mean_squared_error: 0.8184 - val_mean_absolute_error: 0.4564\n",
      "Epoch 136/150\n",
      "10224/10224 [==============================] - 13s 1ms/step - loss: 0.0562 - mean_squared_error: 0.0562 - mean_absolute_error: 0.1674 - val_loss: 0.8266 - val_mean_squared_error: 0.8266 - val_mean_absolute_error: 0.4419\n",
      "Epoch 137/150\n",
      "10224/10224 [==============================] - 13s 1ms/step - loss: 0.0503 - mean_squared_error: 0.0503 - mean_absolute_error: 0.1560 - val_loss: 0.7958 - val_mean_squared_error: 0.7958 - val_mean_absolute_error: 0.4288\n",
      "Epoch 138/150\n",
      "10224/10224 [==============================] - 13s 1ms/step - loss: 0.0528 - mean_squared_error: 0.0528 - mean_absolute_error: 0.1563 - val_loss: 0.7790 - val_mean_squared_error: 0.7790 - val_mean_absolute_error: 0.4466\n",
      "Epoch 139/150\n",
      "10224/10224 [==============================] - 13s 1ms/step - loss: 0.0530 - mean_squared_error: 0.0530 - mean_absolute_error: 0.1582 - val_loss: 0.8051 - val_mean_squared_error: 0.8051 - val_mean_absolute_error: 0.4322\n",
      "Epoch 140/150\n"
     ]
    },
    {
     "name": "stdout",
     "output_type": "stream",
     "text": [
      "10224/10224 [==============================] - 13s 1ms/step - loss: 0.0432 - mean_squared_error: 0.0432 - mean_absolute_error: 0.1474 - val_loss: 0.8154 - val_mean_squared_error: 0.8154 - val_mean_absolute_error: 0.4334\n",
      "Epoch 141/150\n",
      "10224/10224 [==============================] - 13s 1ms/step - loss: 0.0445 - mean_squared_error: 0.0445 - mean_absolute_error: 0.1506 - val_loss: 0.7907 - val_mean_squared_error: 0.7907 - val_mean_absolute_error: 0.4328\n",
      "Epoch 142/150\n",
      "10224/10224 [==============================] - 13s 1ms/step - loss: 0.0431 - mean_squared_error: 0.0431 - mean_absolute_error: 0.1463 - val_loss: 0.8146 - val_mean_squared_error: 0.8146 - val_mean_absolute_error: 0.4322\n",
      "Epoch 143/150\n",
      "10224/10224 [==============================] - 13s 1ms/step - loss: 0.0423 - mean_squared_error: 0.0423 - mean_absolute_error: 0.1448 - val_loss: 0.8242 - val_mean_squared_error: 0.8242 - val_mean_absolute_error: 0.4358\n",
      "Epoch 144/150\n",
      "10224/10224 [==============================] - 13s 1ms/step - loss: 0.0433 - mean_squared_error: 0.0433 - mean_absolute_error: 0.1464 - val_loss: 0.8206 - val_mean_squared_error: 0.8206 - val_mean_absolute_error: 0.4343\n",
      "Epoch 145/150\n",
      "10224/10224 [==============================] - 13s 1ms/step - loss: 0.0572 - mean_squared_error: 0.0572 - mean_absolute_error: 0.1580 - val_loss: 0.8240 - val_mean_squared_error: 0.8240 - val_mean_absolute_error: 0.4448\n",
      "Epoch 146/150\n",
      "10224/10224 [==============================] - 13s 1ms/step - loss: 0.0458 - mean_squared_error: 0.0458 - mean_absolute_error: 0.1504 - val_loss: 0.8303 - val_mean_squared_error: 0.8303 - val_mean_absolute_error: 0.4491\n",
      "Epoch 147/150\n",
      "10224/10224 [==============================] - 13s 1ms/step - loss: 0.0509 - mean_squared_error: 0.0509 - mean_absolute_error: 0.1500 - val_loss: 0.8013 - val_mean_squared_error: 0.8013 - val_mean_absolute_error: 0.4429\n",
      "Epoch 148/150\n",
      "10224/10224 [==============================] - 13s 1ms/step - loss: 0.0450 - mean_squared_error: 0.0450 - mean_absolute_error: 0.1472 - val_loss: 0.7888 - val_mean_squared_error: 0.7888 - val_mean_absolute_error: 0.4340\n",
      "Epoch 149/150\n",
      "10224/10224 [==============================] - 13s 1ms/step - loss: 0.0411 - mean_squared_error: 0.0411 - mean_absolute_error: 0.1431 - val_loss: 0.7969 - val_mean_squared_error: 0.7969 - val_mean_absolute_error: 0.4373\n",
      "Epoch 150/150\n",
      "10224/10224 [==============================] - 13s 1ms/step - loss: 0.0406 - mean_squared_error: 0.0406 - mean_absolute_error: 0.1432 - val_loss: 0.7913 - val_mean_squared_error: 0.7913 - val_mean_absolute_error: 0.4331\n",
      "EndTime : 2020-11-23 16:19:23.796686\n"
     ]
    }
   ],
   "source": [
    "StartTime8 = datetime.now()\n",
    "print(\"StartTime :\", StartTime8)\n",
    "with K.tf.device('/GPU:0'):\n",
    "    model_train = model.fit(train_X, training_label_array, batch_size=batch_size,epochs=training_epochs,verbose=1,\n",
    "                        validation_data=(test_X, test_label_array))\n",
    "\n",
    "EndTime8 = datetime.now()\n",
    "print(\"EndTime :\", EndTime8)"
   ]
  },
  {
   "cell_type": "code",
   "execution_count": 18,
   "metadata": {},
   "outputs": [],
   "source": [
    "import json\n",
    "from keras.models import model_from_json, load_model\n",
    "workdir = \"E://Ronny_TF//201120_EDC_EYDC_MDC_other_PC//Result//EDC11K//ResNet\"\n",
    "# Option 1: Save Weights + Architecture\n",
    "model.save_weights(workdir+ '//EDC11K_ResNet_model_fix_v3.h5')\n",
    "with open(workdir + '//EDC11K_ResNet_model_architecture_fix_v3.json', 'w') as f:\n",
    "    f.write(model.to_json())\n",
    "# Option 1: Load Weights + Architecture\n",
    "# with open('model_architecture.json', 'r') as f:\n",
    "#     new_model_1 = model_from_json(f.read())\n",
    "# new_model_1.load_weights('model_weights.h5')"
   ]
  },
  {
   "cell_type": "code",
   "execution_count": 19,
   "metadata": {},
   "outputs": [],
   "source": [
    "# Option 2: Save/Load the Entire Model\n",
    "from keras.models import load_model\n",
    "\n",
    "# Creates a HDF5 file 'my_model.h5'\n",
    "model.save(workdir + '//EDC11K_ResNet_model_fix_2080ti_v3.h5')\n",
    "\n",
    "# Deletes the existing model\n",
    "# del model  \n",
    "\n",
    "# Returns a compiled model identical to the previous one\n",
    "# model = load_model('my_model.h5')"
   ]
  },
  {
   "cell_type": "code",
   "execution_count": 20,
   "metadata": {},
   "outputs": [
    {
     "name": "stdout",
     "output_type": "stream",
     "text": [
      "1136/1136 [==============================] - 1s 550us/step\n"
     ]
    }
   ],
   "source": [
    "test_eval = model.evaluate(test_X, test_label_array, verbose=1)"
   ]
  },
  {
   "cell_type": "code",
   "execution_count": 21,
   "metadata": {},
   "outputs": [
    {
     "data": {
      "text/plain": [
       "[0.7912855177698, 0.7912855177698, 0.4330675652329351]"
      ]
     },
     "execution_count": 21,
     "metadata": {},
     "output_type": "execute_result"
    }
   ],
   "source": [
    "test_eval"
   ]
  },
  {
   "cell_type": "code",
   "execution_count": 22,
   "metadata": {},
   "outputs": [],
   "source": [
    "accuracy = model_train.history['mean_squared_error']\n",
    "val_accuracy = model_train.history['val_mean_squared_error']\n",
    "loss = model_train.history['loss']\n",
    "val_loss = model_train.history['val_loss']\n",
    "\n",
    "np_acc = np.array(accuracy)\n",
    "np_val_acc = np.array(val_accuracy)\n",
    "np_loss = np.array(loss)\n",
    "np_val_loss = np.array(val_loss)"
   ]
  },
  {
   "cell_type": "code",
   "execution_count": 23,
   "metadata": {},
   "outputs": [],
   "source": [
    "import matplotlib\n",
    "from matplotlib import pyplot as plt"
   ]
  },
  {
   "cell_type": "code",
   "execution_count": 24,
   "metadata": {},
   "outputs": [
    {
     "data": {
      "image/png": "[encoded data removed]",
      "text/plain": [
       "<Figure size 432x288 with 1 Axes>"
      ]
     },
     "metadata": {
      "needs_background": "light"
     },
     "output_type": "display_data"
    },
    {
     "data": {
      "image/png": "[encoded data removed]",
      "text/plain": [
       "<Figure size 432x288 with 1 Axes>"
      ]
     },
     "metadata": {
      "needs_background": "light"
     },
     "output_type": "display_data"
    }
   ],
   "source": [
    "# accuracy = model_train.history['acc']\n",
    "# val_accuracy = model_train.history['val_acc']\n",
    "# loss = model_train.history['loss']\n",
    "# val_loss = model_train.history['val_loss']\n",
    "epochs = range(len(accuracy))\n",
    "plt.plot(epochs, accuracy, 'bo', label='Training mse')\n",
    "plt.plot(epochs, val_accuracy, 'b', label='Validation mse')\n",
    "plt.title('Training and validation mse')\n",
    "plt.legend()\n",
    "plt.figure()\n",
    "plt.plot(epochs, loss, 'bo', label='Training loss')\n",
    "plt.plot(epochs, val_loss, 'b', label='Validation loss')\n",
    "plt.title('Training and validation loss')\n",
    "plt.legend()\n",
    "plt.show()"
   ]
  },
  {
   "cell_type": "code",
   "execution_count": 25,
   "metadata": {},
   "outputs": [],
   "source": [
    "predicted_classes = model.predict(test_X)"
   ]
  },
  {
   "cell_type": "code",
   "execution_count": 26,
   "metadata": {},
   "outputs": [],
   "source": [
    "predicted_value = predicted_classes"
   ]
  },
  {
   "cell_type": "code",
   "execution_count": 27,
   "metadata": {},
   "outputs": [],
   "source": [
    "a = pd.DataFrame(predicted_value)\n",
    "b = pd.DataFrame(test_label_array)\n",
    "c = pd.concat([a,b], axis=1)\n",
    "c.columns=[\"Predicted\",\"Test\"]"
   ]
  },
  {
   "cell_type": "code",
   "execution_count": 28,
   "metadata": {},
   "outputs": [],
   "source": [
    "c.to_csv(workdir + '//EDC11K_ResNet_pred_obs_table.csv')"
   ]
  },
  {
   "cell_type": "code",
   "execution_count": 29,
   "metadata": {
    "scrolled": true
   },
   "outputs": [
    {
     "data": {
      "text/html": [
       "<div>\n",
       "<style scoped>\n",
       "    .dataframe tbody tr th:only-of-type {\n",
       "        vertical-align: middle;\n",
       "    }\n",
       "\n",
       "    .dataframe tbody tr th {\n",
       "        vertical-align: top;\n",
       "    }\n",
       "\n",
       "    .dataframe thead th {\n",
       "        text-align: right;\n",
       "    }\n",
       "</style>\n",
       "<table border=\"1\" class=\"dataframe\">\n",
       "  <thead>\n",
       "    <tr style=\"text-align: right;\">\n",
       "      <th></th>\n",
       "      <th>Predicted</th>\n",
       "      <th>Test</th>\n",
       "    </tr>\n",
       "  </thead>\n",
       "  <tbody>\n",
       "    <tr>\n",
       "      <th>0</th>\n",
       "      <td>-0.324614</td>\n",
       "      <td>0.194956</td>\n",
       "    </tr>\n",
       "    <tr>\n",
       "      <th>1</th>\n",
       "      <td>-0.212160</td>\n",
       "      <td>-0.678423</td>\n",
       "    </tr>\n",
       "    <tr>\n",
       "      <th>2</th>\n",
       "      <td>2.079772</td>\n",
       "      <td>2.079442</td>\n",
       "    </tr>\n",
       "    <tr>\n",
       "      <th>3</th>\n",
       "      <td>1.868133</td>\n",
       "      <td>2.079442</td>\n",
       "    </tr>\n",
       "    <tr>\n",
       "      <th>4</th>\n",
       "      <td>1.665277</td>\n",
       "      <td>1.269606</td>\n",
       "    </tr>\n",
       "    <tr>\n",
       "      <th>...</th>\n",
       "      <td>...</td>\n",
       "      <td>...</td>\n",
       "    </tr>\n",
       "    <tr>\n",
       "      <th>1131</th>\n",
       "      <td>2.093735</td>\n",
       "      <td>2.079442</td>\n",
       "    </tr>\n",
       "    <tr>\n",
       "      <th>1132</th>\n",
       "      <td>2.076246</td>\n",
       "      <td>2.079442</td>\n",
       "    </tr>\n",
       "    <tr>\n",
       "      <th>1133</th>\n",
       "      <td>2.076531</td>\n",
       "      <td>2.079442</td>\n",
       "    </tr>\n",
       "    <tr>\n",
       "      <th>1134</th>\n",
       "      <td>1.364141</td>\n",
       "      <td>0.178212</td>\n",
       "    </tr>\n",
       "    <tr>\n",
       "      <th>1135</th>\n",
       "      <td>2.069317</td>\n",
       "      <td>2.079442</td>\n",
       "    </tr>\n",
       "  </tbody>\n",
       "</table>\n",
       "<p>1136 rows × 2 columns</p>\n",
       "</div>"
      ],
      "text/plain": [
       "      Predicted      Test\n",
       "0     -0.324614  0.194956\n",
       "1     -0.212160 -0.678423\n",
       "2      2.079772  2.079442\n",
       "3      1.868133  2.079442\n",
       "4      1.665277  1.269606\n",
       "...         ...       ...\n",
       "1131   2.093735  2.079442\n",
       "1132   2.076246  2.079442\n",
       "1133   2.076531  2.079442\n",
       "1134   1.364141  0.178212\n",
       "1135   2.069317  2.079442\n",
       "\n",
       "[1136 rows x 2 columns]"
      ]
     },
     "execution_count": 29,
     "metadata": {},
     "output_type": "execute_result"
    }
   ],
   "source": [
    "c"
   ]
  },
  {
   "cell_type": "code",
   "execution_count": 30,
   "metadata": {},
   "outputs": [
    {
     "data": {
      "text/plain": [
       "(1136, 1)"
      ]
     },
     "execution_count": 30,
     "metadata": {},
     "output_type": "execute_result"
    }
   ],
   "source": [
    "predicted_value.shape"
   ]
  },
  {
   "cell_type": "code",
   "execution_count": 31,
   "metadata": {},
   "outputs": [
    {
     "data": {
      "text/plain": [
       "LinregressResult(slope=0.8354425452723175, intercept=0.235131180501835, rvalue=0.8914504308670708, pvalue=0.0, stderr=0.012610270299565404)"
      ]
     },
     "execution_count": 31,
     "metadata": {},
     "output_type": "execute_result"
    }
   ],
   "source": [
    "from scipy.stats import linregress\n",
    "linregress(b[0], a[0])"
   ]
  },
  {
   "cell_type": "code",
   "execution_count": 32,
   "metadata": {},
   "outputs": [
    {
     "name": "stdout",
     "output_type": "stream",
     "text": [
      "0.7905884646382674\n"
     ]
    }
   ],
   "source": [
    "from sklearn.metrics import r2_score\n",
    "r2_value = r2_score(b,a)\n",
    "print(r2_value)"
   ]
  },
  {
   "cell_type": "code",
   "execution_count": 33,
   "metadata": {},
   "outputs": [
    {
     "name": "stdout",
     "output_type": "stream",
     "text": [
      "Final rmse value is = 0.8895422988253624\n"
     ]
    }
   ],
   "source": [
    "rse = ((b[0]-a[0])**2).sum()\n",
    "mse = rse / len(b)\n",
    "print(\"Final rmse value is =\",np.sqrt(mse))"
   ]
  },
  {
   "cell_type": "code",
   "execution_count": 34,
   "metadata": {},
   "outputs": [
    {
     "data": {
      "image/png": "[encoded data removed]",
      "text/plain": [
       "<Figure size 432x432 with 3 Axes>"
      ]
     },
     "metadata": {
      "needs_background": "light"
     },
     "output_type": "display_data"
    }
   ],
   "source": [
    "workdir = \"E://Ronny_TF//201120_EDC_EYDC_MDC_other_PC//Result//Fig_backbone//EDC11K\"\n",
    "import seaborn as sns\n",
    "\n",
    "g = sns.jointplot(x=\"Test\", y=\"Predicted\", data=c, kind='reg', color='#7C7C7C',\n",
    "                  joint_kws={'line_kws':{'color':'black'}})\n",
    "g.savefig(workdir+ '//EDC11K_ResNet.png', dpi=300)"
   ]
  },
  {
   "cell_type": "code",
   "execution_count": null,
   "metadata": {},
   "outputs": [],
   "source": []
  }
 ],
 "metadata": {
  "kernelspec": {
   "display_name": "Python 3",
   "language": "python",
   "name": "python3"
  },
  "language_info": {
   "codemirror_mode": {
    "name": "ipython",
    "version": 3
   },
   "file_extension": ".py",
   "mimetype": "text/x-python",
   "name": "python",
   "nbconvert_exporter": "python",
   "pygments_lexer": "ipython3",
   "version": "3.7.9"
  }
 },
 "nbformat": 4,
 "nbformat_minor": 2
}
